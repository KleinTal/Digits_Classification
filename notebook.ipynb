{
  "metadata": {
    "kernelspec": {
      "language": "python",
      "display_name": "Python 3",
      "name": "python3"
    },
    "language_info": {
      "name": "python",
      "version": "3.10.12",
      "mimetype": "text/x-python",
      "codemirror_mode": {
        "name": "ipython",
        "version": 3
      },
      "pygments_lexer": "ipython3",
      "nbconvert_exporter": "python",
      "file_extension": ".py"
    },
    "kaggle": {
      "accelerator": "none",
      "dataSources": [
        {
          "sourceId": 3004,
          "databundleVersionId": 861823,
          "sourceType": "competition"
        }
      ],
      "dockerImageVersionId": 30626,
      "isInternetEnabled": false,
      "language": "python",
      "sourceType": "notebook",
      "isGpuEnabled": false
    },
    "colab": {
      "provenance": []
    }
  },
  "nbformat_minor": 0,
  "nbformat": 4,
  "cells": [
    {
      "cell_type": "markdown",
      "source": [
        "# $\\bbox[#000051,4px,padding:5px; border:3px solid lightBlue;border-radius:10px;]{\\color{white}{\\Large{\\textbf{Keras : Numbers}}}}$"
      ],
      "metadata": {
        "id": "q-FCy_aO8dhV"
      }
    },
    {
      "cell_type": "markdown",
      "source": [
        "##$\\bbox[Green,6px,padding:15px; border:5px solid lightGreen;border-radius:10px;]{\\color{white}{\\Large{\\textbf{Import Data}}}}$\n"
      ],
      "metadata": {
        "id": "9eirYGSvTVjo"
      }
    },
    {
      "cell_type": "code",
      "source": [
        "# import the libraries\n",
        "import pandas as pd\n",
        "import numpy as np\n",
        "\n",
        "# load the data\n",
        "df = pd.read_csv('train.csv')\n",
        "\n",
        "# put the dataset in a numpy array\n",
        "data = np.array(df)\n",
        "\n",
        "# shuffling the data before splitting\n",
        "np.random.shuffle(data)\n",
        "\n",
        "df.head()\n"
      ],
      "metadata": {
        "colab": {
          "base_uri": "https://localhost:8080/",
          "height": 0
        },
        "id": "c6hf4QzxKRpS",
        "outputId": "13fe0d44-7702-4f25-a1ee-3a905d744776"
      },
      "execution_count": 78,
      "outputs": [
        {
          "output_type": "execute_result",
          "data": {
            "text/plain": [
              "   label  pixel0  pixel1  pixel2  pixel3  pixel4  pixel5  pixel6  pixel7  \\\n",
              "0      1       0       0       0       0       0       0       0       0   \n",
              "1      0       0       0       0       0       0       0       0       0   \n",
              "2      1       0       0       0       0       0       0       0       0   \n",
              "3      4       0       0       0       0       0       0       0       0   \n",
              "4      0       0       0       0       0       0       0       0       0   \n",
              "\n",
              "   pixel8  ...  pixel774  pixel775  pixel776  pixel777  pixel778  pixel779  \\\n",
              "0       0  ...         0         0         0         0         0         0   \n",
              "1       0  ...         0         0         0         0         0         0   \n",
              "2       0  ...         0         0         0         0         0         0   \n",
              "3       0  ...         0         0         0         0         0         0   \n",
              "4       0  ...         0         0         0         0         0         0   \n",
              "\n",
              "   pixel780  pixel781  pixel782  pixel783  \n",
              "0         0         0         0         0  \n",
              "1         0         0         0         0  \n",
              "2         0         0         0         0  \n",
              "3         0         0         0         0  \n",
              "4         0         0         0         0  \n",
              "\n",
              "[5 rows x 785 columns]"
            ],
            "text/html": [
              "\n",
              "  <div id=\"df-93bd6702-c3c6-4f03-afbc-a136d6994cf4\" class=\"colab-df-container\">\n",
              "    <div>\n",
              "<style scoped>\n",
              "    .dataframe tbody tr th:only-of-type {\n",
              "        vertical-align: middle;\n",
              "    }\n",
              "\n",
              "    .dataframe tbody tr th {\n",
              "        vertical-align: top;\n",
              "    }\n",
              "\n",
              "    .dataframe thead th {\n",
              "        text-align: right;\n",
              "    }\n",
              "</style>\n",
              "<table border=\"1\" class=\"dataframe\">\n",
              "  <thead>\n",
              "    <tr style=\"text-align: right;\">\n",
              "      <th></th>\n",
              "      <th>label</th>\n",
              "      <th>pixel0</th>\n",
              "      <th>pixel1</th>\n",
              "      <th>pixel2</th>\n",
              "      <th>pixel3</th>\n",
              "      <th>pixel4</th>\n",
              "      <th>pixel5</th>\n",
              "      <th>pixel6</th>\n",
              "      <th>pixel7</th>\n",
              "      <th>pixel8</th>\n",
              "      <th>...</th>\n",
              "      <th>pixel774</th>\n",
              "      <th>pixel775</th>\n",
              "      <th>pixel776</th>\n",
              "      <th>pixel777</th>\n",
              "      <th>pixel778</th>\n",
              "      <th>pixel779</th>\n",
              "      <th>pixel780</th>\n",
              "      <th>pixel781</th>\n",
              "      <th>pixel782</th>\n",
              "      <th>pixel783</th>\n",
              "    </tr>\n",
              "  </thead>\n",
              "  <tbody>\n",
              "    <tr>\n",
              "      <th>0</th>\n",
              "      <td>1</td>\n",
              "      <td>0</td>\n",
              "      <td>0</td>\n",
              "      <td>0</td>\n",
              "      <td>0</td>\n",
              "      <td>0</td>\n",
              "      <td>0</td>\n",
              "      <td>0</td>\n",
              "      <td>0</td>\n",
              "      <td>0</td>\n",
              "      <td>...</td>\n",
              "      <td>0</td>\n",
              "      <td>0</td>\n",
              "      <td>0</td>\n",
              "      <td>0</td>\n",
              "      <td>0</td>\n",
              "      <td>0</td>\n",
              "      <td>0</td>\n",
              "      <td>0</td>\n",
              "      <td>0</td>\n",
              "      <td>0</td>\n",
              "    </tr>\n",
              "    <tr>\n",
              "      <th>1</th>\n",
              "      <td>0</td>\n",
              "      <td>0</td>\n",
              "      <td>0</td>\n",
              "      <td>0</td>\n",
              "      <td>0</td>\n",
              "      <td>0</td>\n",
              "      <td>0</td>\n",
              "      <td>0</td>\n",
              "      <td>0</td>\n",
              "      <td>0</td>\n",
              "      <td>...</td>\n",
              "      <td>0</td>\n",
              "      <td>0</td>\n",
              "      <td>0</td>\n",
              "      <td>0</td>\n",
              "      <td>0</td>\n",
              "      <td>0</td>\n",
              "      <td>0</td>\n",
              "      <td>0</td>\n",
              "      <td>0</td>\n",
              "      <td>0</td>\n",
              "    </tr>\n",
              "    <tr>\n",
              "      <th>2</th>\n",
              "      <td>1</td>\n",
              "      <td>0</td>\n",
              "      <td>0</td>\n",
              "      <td>0</td>\n",
              "      <td>0</td>\n",
              "      <td>0</td>\n",
              "      <td>0</td>\n",
              "      <td>0</td>\n",
              "      <td>0</td>\n",
              "      <td>0</td>\n",
              "      <td>...</td>\n",
              "      <td>0</td>\n",
              "      <td>0</td>\n",
              "      <td>0</td>\n",
              "      <td>0</td>\n",
              "      <td>0</td>\n",
              "      <td>0</td>\n",
              "      <td>0</td>\n",
              "      <td>0</td>\n",
              "      <td>0</td>\n",
              "      <td>0</td>\n",
              "    </tr>\n",
              "    <tr>\n",
              "      <th>3</th>\n",
              "      <td>4</td>\n",
              "      <td>0</td>\n",
              "      <td>0</td>\n",
              "      <td>0</td>\n",
              "      <td>0</td>\n",
              "      <td>0</td>\n",
              "      <td>0</td>\n",
              "      <td>0</td>\n",
              "      <td>0</td>\n",
              "      <td>0</td>\n",
              "      <td>...</td>\n",
              "      <td>0</td>\n",
              "      <td>0</td>\n",
              "      <td>0</td>\n",
              "      <td>0</td>\n",
              "      <td>0</td>\n",
              "      <td>0</td>\n",
              "      <td>0</td>\n",
              "      <td>0</td>\n",
              "      <td>0</td>\n",
              "      <td>0</td>\n",
              "    </tr>\n",
              "    <tr>\n",
              "      <th>4</th>\n",
              "      <td>0</td>\n",
              "      <td>0</td>\n",
              "      <td>0</td>\n",
              "      <td>0</td>\n",
              "      <td>0</td>\n",
              "      <td>0</td>\n",
              "      <td>0</td>\n",
              "      <td>0</td>\n",
              "      <td>0</td>\n",
              "      <td>0</td>\n",
              "      <td>...</td>\n",
              "      <td>0</td>\n",
              "      <td>0</td>\n",
              "      <td>0</td>\n",
              "      <td>0</td>\n",
              "      <td>0</td>\n",
              "      <td>0</td>\n",
              "      <td>0</td>\n",
              "      <td>0</td>\n",
              "      <td>0</td>\n",
              "      <td>0</td>\n",
              "    </tr>\n",
              "  </tbody>\n",
              "</table>\n",
              "<p>5 rows × 785 columns</p>\n",
              "</div>\n",
              "    <div class=\"colab-df-buttons\">\n",
              "\n",
              "  <div class=\"colab-df-container\">\n",
              "    <button class=\"colab-df-convert\" onclick=\"convertToInteractive('df-93bd6702-c3c6-4f03-afbc-a136d6994cf4')\"\n",
              "            title=\"Convert this dataframe to an interactive table.\"\n",
              "            style=\"display:none;\">\n",
              "\n",
              "  <svg xmlns=\"http://www.w3.org/2000/svg\" height=\"24px\" viewBox=\"0 -960 960 960\">\n",
              "    <path d=\"M120-120v-720h720v720H120Zm60-500h600v-160H180v160Zm220 220h160v-160H400v160Zm0 220h160v-160H400v160ZM180-400h160v-160H180v160Zm440 0h160v-160H620v160ZM180-180h160v-160H180v160Zm440 0h160v-160H620v160Z\"/>\n",
              "  </svg>\n",
              "    </button>\n",
              "\n",
              "  <style>\n",
              "    .colab-df-container {\n",
              "      display:flex;\n",
              "      gap: 12px;\n",
              "    }\n",
              "\n",
              "    .colab-df-convert {\n",
              "      background-color: #E8F0FE;\n",
              "      border: none;\n",
              "      border-radius: 50%;\n",
              "      cursor: pointer;\n",
              "      display: none;\n",
              "      fill: #1967D2;\n",
              "      height: 32px;\n",
              "      padding: 0 0 0 0;\n",
              "      width: 32px;\n",
              "    }\n",
              "\n",
              "    .colab-df-convert:hover {\n",
              "      background-color: #E2EBFA;\n",
              "      box-shadow: 0px 1px 2px rgba(60, 64, 67, 0.3), 0px 1px 3px 1px rgba(60, 64, 67, 0.15);\n",
              "      fill: #174EA6;\n",
              "    }\n",
              "\n",
              "    .colab-df-buttons div {\n",
              "      margin-bottom: 4px;\n",
              "    }\n",
              "\n",
              "    [theme=dark] .colab-df-convert {\n",
              "      background-color: #3B4455;\n",
              "      fill: #D2E3FC;\n",
              "    }\n",
              "\n",
              "    [theme=dark] .colab-df-convert:hover {\n",
              "      background-color: #434B5C;\n",
              "      box-shadow: 0px 1px 3px 1px rgba(0, 0, 0, 0.15);\n",
              "      filter: drop-shadow(0px 1px 2px rgba(0, 0, 0, 0.3));\n",
              "      fill: #FFFFFF;\n",
              "    }\n",
              "  </style>\n",
              "\n",
              "    <script>\n",
              "      const buttonEl =\n",
              "        document.querySelector('#df-93bd6702-c3c6-4f03-afbc-a136d6994cf4 button.colab-df-convert');\n",
              "      buttonEl.style.display =\n",
              "        google.colab.kernel.accessAllowed ? 'block' : 'none';\n",
              "\n",
              "      async function convertToInteractive(key) {\n",
              "        const element = document.querySelector('#df-93bd6702-c3c6-4f03-afbc-a136d6994cf4');\n",
              "        const dataTable =\n",
              "          await google.colab.kernel.invokeFunction('convertToInteractive',\n",
              "                                                    [key], {});\n",
              "        if (!dataTable) return;\n",
              "\n",
              "        const docLinkHtml = 'Like what you see? Visit the ' +\n",
              "          '<a target=\"_blank\" href=https://colab.research.google.com/notebooks/data_table.ipynb>data table notebook</a>'\n",
              "          + ' to learn more about interactive tables.';\n",
              "        element.innerHTML = '';\n",
              "        dataTable['output_type'] = 'display_data';\n",
              "        await google.colab.output.renderOutput(dataTable, element);\n",
              "        const docLink = document.createElement('div');\n",
              "        docLink.innerHTML = docLinkHtml;\n",
              "        element.appendChild(docLink);\n",
              "      }\n",
              "    </script>\n",
              "  </div>\n",
              "\n",
              "\n",
              "<div id=\"df-baab19ad-b130-4e6e-a2ae-0d37d0cdc778\">\n",
              "  <button class=\"colab-df-quickchart\" onclick=\"quickchart('df-baab19ad-b130-4e6e-a2ae-0d37d0cdc778')\"\n",
              "            title=\"Suggest charts\"\n",
              "            style=\"display:none;\">\n",
              "\n",
              "<svg xmlns=\"http://www.w3.org/2000/svg\" height=\"24px\"viewBox=\"0 0 24 24\"\n",
              "     width=\"24px\">\n",
              "    <g>\n",
              "        <path d=\"M19 3H5c-1.1 0-2 .9-2 2v14c0 1.1.9 2 2 2h14c1.1 0 2-.9 2-2V5c0-1.1-.9-2-2-2zM9 17H7v-7h2v7zm4 0h-2V7h2v10zm4 0h-2v-4h2v4z\"/>\n",
              "    </g>\n",
              "</svg>\n",
              "  </button>\n",
              "\n",
              "<style>\n",
              "  .colab-df-quickchart {\n",
              "      --bg-color: #E8F0FE;\n",
              "      --fill-color: #1967D2;\n",
              "      --hover-bg-color: #E2EBFA;\n",
              "      --hover-fill-color: #174EA6;\n",
              "      --disabled-fill-color: #AAA;\n",
              "      --disabled-bg-color: #DDD;\n",
              "  }\n",
              "\n",
              "  [theme=dark] .colab-df-quickchart {\n",
              "      --bg-color: #3B4455;\n",
              "      --fill-color: #D2E3FC;\n",
              "      --hover-bg-color: #434B5C;\n",
              "      --hover-fill-color: #FFFFFF;\n",
              "      --disabled-bg-color: #3B4455;\n",
              "      --disabled-fill-color: #666;\n",
              "  }\n",
              "\n",
              "  .colab-df-quickchart {\n",
              "    background-color: var(--bg-color);\n",
              "    border: none;\n",
              "    border-radius: 50%;\n",
              "    cursor: pointer;\n",
              "    display: none;\n",
              "    fill: var(--fill-color);\n",
              "    height: 32px;\n",
              "    padding: 0;\n",
              "    width: 32px;\n",
              "  }\n",
              "\n",
              "  .colab-df-quickchart:hover {\n",
              "    background-color: var(--hover-bg-color);\n",
              "    box-shadow: 0 1px 2px rgba(60, 64, 67, 0.3), 0 1px 3px 1px rgba(60, 64, 67, 0.15);\n",
              "    fill: var(--button-hover-fill-color);\n",
              "  }\n",
              "\n",
              "  .colab-df-quickchart-complete:disabled,\n",
              "  .colab-df-quickchart-complete:disabled:hover {\n",
              "    background-color: var(--disabled-bg-color);\n",
              "    fill: var(--disabled-fill-color);\n",
              "    box-shadow: none;\n",
              "  }\n",
              "\n",
              "  .colab-df-spinner {\n",
              "    border: 2px solid var(--fill-color);\n",
              "    border-color: transparent;\n",
              "    border-bottom-color: var(--fill-color);\n",
              "    animation:\n",
              "      spin 1s steps(1) infinite;\n",
              "  }\n",
              "\n",
              "  @keyframes spin {\n",
              "    0% {\n",
              "      border-color: transparent;\n",
              "      border-bottom-color: var(--fill-color);\n",
              "      border-left-color: var(--fill-color);\n",
              "    }\n",
              "    20% {\n",
              "      border-color: transparent;\n",
              "      border-left-color: var(--fill-color);\n",
              "      border-top-color: var(--fill-color);\n",
              "    }\n",
              "    30% {\n",
              "      border-color: transparent;\n",
              "      border-left-color: var(--fill-color);\n",
              "      border-top-color: var(--fill-color);\n",
              "      border-right-color: var(--fill-color);\n",
              "    }\n",
              "    40% {\n",
              "      border-color: transparent;\n",
              "      border-right-color: var(--fill-color);\n",
              "      border-top-color: var(--fill-color);\n",
              "    }\n",
              "    60% {\n",
              "      border-color: transparent;\n",
              "      border-right-color: var(--fill-color);\n",
              "    }\n",
              "    80% {\n",
              "      border-color: transparent;\n",
              "      border-right-color: var(--fill-color);\n",
              "      border-bottom-color: var(--fill-color);\n",
              "    }\n",
              "    90% {\n",
              "      border-color: transparent;\n",
              "      border-bottom-color: var(--fill-color);\n",
              "    }\n",
              "  }\n",
              "</style>\n",
              "\n",
              "  <script>\n",
              "    async function quickchart(key) {\n",
              "      const quickchartButtonEl =\n",
              "        document.querySelector('#' + key + ' button');\n",
              "      quickchartButtonEl.disabled = true;  // To prevent multiple clicks.\n",
              "      quickchartButtonEl.classList.add('colab-df-spinner');\n",
              "      try {\n",
              "        const charts = await google.colab.kernel.invokeFunction(\n",
              "            'suggestCharts', [key], {});\n",
              "      } catch (error) {\n",
              "        console.error('Error during call to suggestCharts:', error);\n",
              "      }\n",
              "      quickchartButtonEl.classList.remove('colab-df-spinner');\n",
              "      quickchartButtonEl.classList.add('colab-df-quickchart-complete');\n",
              "    }\n",
              "    (() => {\n",
              "      let quickchartButtonEl =\n",
              "        document.querySelector('#df-baab19ad-b130-4e6e-a2ae-0d37d0cdc778 button');\n",
              "      quickchartButtonEl.style.display =\n",
              "        google.colab.kernel.accessAllowed ? 'block' : 'none';\n",
              "    })();\n",
              "  </script>\n",
              "</div>\n",
              "\n",
              "    </div>\n",
              "  </div>\n"
            ],
            "application/vnd.google.colaboratory.intrinsic+json": {
              "type": "dataframe",
              "variable_name": "df"
            }
          },
          "metadata": {},
          "execution_count": 78
        }
      ]
    },
    {
      "cell_type": "markdown",
      "source": [
        "\n",
        "##$\\bbox[Green,6px,padding:15px; border:5px solid lightGreen;border-radius:10px;]{\\color{white}{\\Large{\\textbf{Splitting data}}}}$"
      ],
      "metadata": {
        "id": "TtQws86sKp3g"
      }
    },
    {
      "cell_type": "code",
      "source": [
        "# splitting data into 75% training and 25% validation\n",
        "\n",
        "# 25% for validation\n",
        "val_data = data[0: 10000].T\n",
        "y_val = val_data[0] # first column is the target\n",
        "X_val = val_data[1:785] # those are the features\n",
        "\n",
        "# 75% for training\n",
        "train_data = data[10000:40000].T\n",
        "y_train = train_data[0] # first column is the target\n",
        "X_train = train_data[1:785] # those are the features\n",
        "\n",
        "# see the new shapes\n",
        "print(train_data.shape, y_train.shape)"
      ],
      "metadata": {
        "colab": {
          "base_uri": "https://localhost:8080/"
        },
        "id": "VZt7bHytKeol",
        "outputId": "1bde4dcf-9a5f-4dac-c9d2-ee8148b8abcd"
      },
      "execution_count": 79,
      "outputs": [
        {
          "output_type": "stream",
          "name": "stdout",
          "text": [
            "(785, 30000) (30000,)\n"
          ]
        }
      ]
    },
    {
      "cell_type": "markdown",
      "source": [
        "\n",
        "##$\\bbox[Green,6px,padding:15px; border:5px solid lightGreen;border-radius:10px;]{\\color{white}{\\Large{\\textbf{Data Noramlization}}}}$"
      ],
      "metadata": {
        "id": "GhopAsyWKv8Q"
      }
    },
    {
      "cell_type": "code",
      "source": [
        "# Now the min and max values in order to apply the scale\n",
        "min_val = data.min()\n",
        "max_val = data.max()\n",
        "\n",
        "print(min_val, max_val)\n",
        "\n",
        "# Now let's apply the scale of 0 and 1\n",
        "X_val = X_val / 255\n",
        "X_train = X_train / 255\n",
        "\n",
        "# check if the normalisation worked\n",
        "X_val.max()"
      ],
      "metadata": {
        "colab": {
          "base_uri": "https://localhost:8080/"
        },
        "id": "EeI4NqQJKbX6",
        "outputId": "de812634-bd46-4657-da5d-5a816413b91e"
      },
      "execution_count": 80,
      "outputs": [
        {
          "output_type": "stream",
          "name": "stdout",
          "text": [
            "0 255\n"
          ]
        },
        {
          "output_type": "execute_result",
          "data": {
            "text/plain": [
              "1.0"
            ]
          },
          "metadata": {},
          "execution_count": 80
        }
      ]
    },
    {
      "cell_type": "code",
      "source": [
        "X_train.shape"
      ],
      "metadata": {
        "id": "juS0X_KAVKR0",
        "colab": {
          "base_uri": "https://localhost:8080/"
        },
        "outputId": "363641a5-9ab9-44fd-80ec-ed5a8166bf2d"
      },
      "execution_count": 81,
      "outputs": [
        {
          "output_type": "execute_result",
          "data": {
            "text/plain": [
              "(784, 30000)"
            ]
          },
          "metadata": {},
          "execution_count": 81
        }
      ]
    },
    {
      "cell_type": "markdown",
      "source": [
        "\n",
        "$\\text{Also, the input was a row of}\\ 784 \\ \\text{But, now we need it as}\\ 28\\times 28 \\text{.}$\n",
        "\n",
        "$\\text{Use}$ `reshape` $\\text{function to change the dimentions to }\\ (n,28,28) $"
      ],
      "metadata": {
        "id": "539AjHXZVKmD"
      }
    },
    {
      "cell_type": "code",
      "source": [
        "X_train = X_train.T.reshape(X_train.T.shape[0],28,28)\n",
        "X_train.shape"
      ],
      "metadata": {
        "id": "6US5JBHU_xtP",
        "colab": {
          "base_uri": "https://localhost:8080/"
        },
        "outputId": "761e2827-933c-45f2-cc63-7421e16445e9"
      },
      "execution_count": 82,
      "outputs": [
        {
          "output_type": "execute_result",
          "data": {
            "text/plain": [
              "(30000, 28, 28)"
            ]
          },
          "metadata": {},
          "execution_count": 82
        }
      ]
    },
    {
      "cell_type": "markdown",
      "source": [
        "$\\text{Do the same for}\\ $ `X_val`"
      ],
      "metadata": {
        "id": "dWpHRn_yiADH"
      }
    },
    {
      "cell_type": "code",
      "source": [
        "X_val = X_val.T.reshape(X_val.T.shape[0],28,28)\n",
        "X_val.shape"
      ],
      "metadata": {
        "id": "XXjUGb4giKD7",
        "colab": {
          "base_uri": "https://localhost:8080/"
        },
        "outputId": "0dc3d2fc-db42-473e-8dde-755c76a3c548"
      },
      "execution_count": 83,
      "outputs": [
        {
          "output_type": "execute_result",
          "data": {
            "text/plain": [
              "(10000, 28, 28)"
            ]
          },
          "metadata": {},
          "execution_count": 83
        }
      ]
    },
    {
      "cell_type": "markdown",
      "source": [
        "\n",
        "##$\\bbox[Green,6px,padding:15px; border:5px solid lightGreen;border-radius:10px;]{\\color{white}{\\Large{\\textbf{Show Samples}}}}$"
      ],
      "metadata": {
        "id": "W2EQMob-K-cu"
      }
    },
    {
      "cell_type": "code",
      "source": [
        "import tensorflow as tf\n",
        "from tensorflow import keras\n",
        "import matplotlib.pyplot as plt\n",
        "import seaborn as sns\n",
        "# viewing some values\n",
        "fig, axes = plt.subplots(nrows=3, ncols=3, figsize=(10, 10))\n",
        "a = 15\n",
        "\n",
        "for i in range(3):\n",
        "    for j in range(3):\n",
        "        axes[i, j].imshow(X_train[a], cmap=plt.get_cmap('gray'))\n",
        "        a = a + 1\n",
        "\n",
        "plt.show()"
      ],
      "metadata": {
        "id": "vFHeJPcb_bt6",
        "colab": {
          "base_uri": "https://localhost:8080/",
          "height": 0
        },
        "outputId": "24cada73-397b-41db-dc31-6ea8753e34b4"
      },
      "execution_count": 84,
      "outputs": [
        {
          "output_type": "display_data",
          "data": {
            "text/plain": [
              "<Figure size 1000x1000 with 9 Axes>"
            ],
            "image/png": "[encoded data removed]"
          },
          "metadata": {}
        }
      ]
    },
    {
      "cell_type": "markdown",
      "source": [
        "##$\\bbox[Green,6px,padding:15px; border:5px solid lightGreen;border-radius:10px;]{\\color{white}{\\Large{\\textbf{Define the Outcomes}}}}$"
      ],
      "metadata": {
        "id": "1j8M1dfBAtVU"
      }
    },
    {
      "cell_type": "markdown",
      "source": [
        "Match the outcome image (number) to the `label_name`"
      ],
      "metadata": {
        "id": "gTuFmdEmBWhn"
      }
    },
    {
      "cell_type": "code",
      "source": [
        "# What are all the possible outcomes we have?\n",
        "arr = np.array(y_train)\n",
        "np.unique(arr)"
      ],
      "metadata": {
        "id": "-wyYooeMBkEe",
        "colab": {
          "base_uri": "https://localhost:8080/"
        },
        "outputId": "163f0192-e321-498b-e39e-193963955c73"
      },
      "execution_count": 85,
      "outputs": [
        {
          "output_type": "execute_result",
          "data": {
            "text/plain": [
              "array([0, 1, 2, 3, 4, 5, 6, 7, 8, 9])"
            ]
          },
          "metadata": {},
          "execution_count": 85
        }
      ]
    },
    {
      "cell_type": "code",
      "source": [
        "# Since the outcomes are from 0 to 9, here are the names\n",
        "class_name = [\"Zero\", \"One\", \"Two\", \"Three\", \"Four\", \"Five\", \"Six\", \"Seven\", \"Eight\", \"Nine\"]"
      ],
      "metadata": {
        "id": "-csrkpx9Bowv"
      },
      "execution_count": 86,
      "outputs": []
    },
    {
      "cell_type": "code",
      "source": [
        "class_name[y_train[1]]"
      ],
      "metadata": {
        "id": "meM0OG2pBrfu",
        "colab": {
          "base_uri": "https://localhost:8080/",
          "height": 0
        },
        "outputId": "b2a3a3d0-4d68-47c7-82b5-396aff3ef8b1"
      },
      "execution_count": 87,
      "outputs": [
        {
          "output_type": "execute_result",
          "data": {
            "text/plain": [
              "'Two'"
            ],
            "application/vnd.google.colaboratory.intrinsic+json": {
              "type": "string"
            }
          },
          "metadata": {},
          "execution_count": 87
        }
      ]
    },
    {
      "cell_type": "markdown",
      "source": [
        "##$\\bbox[Green,6px,padding:15px; border:5px solid lightGreen;border-radius:10px;]{\\color{white}{\\Large{\\textbf{Model Building}}}}$\n"
      ],
      "metadata": {
        "id": "bIRf1y9CIqBR"
      }
    },
    {
      "cell_type": "markdown",
      "source": [
        "\n",
        "\n",
        "###$\\bbox[Green,2px,padding:0px; border:3px solid lightGreen;border-radius:00px;]{\\color{white}{\\Large{\\text{7.1}\\ \\ \\textbf{Build the Model}}}}$\n"
      ],
      "metadata": {
        "id": "UNthCD-iNGbI"
      }
    },
    {
      "cell_type": "code",
      "source": [
        "model = keras.Sequential()\n",
        "\n",
        "# input layer\n",
        "model.add(keras.layers.Flatten(input_shape=[28,28]))\n",
        "\n",
        "# hidden layers\n",
        "model.add(keras.layers.Dense(300, activation = \"relu\"))\n",
        "model.add(keras.layers.Dense(100, activation = \"relu\"))\n",
        "\n",
        "# outcome layer\n",
        "model.add(keras.layers.Dense(10, activation = \"softmax\"))"
      ],
      "metadata": {
        "id": "oJyriOg7InZh"
      },
      "execution_count": 88,
      "outputs": []
    },
    {
      "cell_type": "markdown",
      "source": [
        "\n",
        "\n",
        "###$\\bbox[Green,2px,padding:0px; border:3px solid lightGreen;border-radius:00px;]{\\color{white}{\\Large{\\text{7.2}\\ \\ \\textbf{Print Model}}}}$\n"
      ],
      "metadata": {
        "id": "9FbYur5DMsm4"
      }
    },
    {
      "cell_type": "code",
      "source": [
        "model.summary()"
      ],
      "metadata": {
        "id": "0qNfj7X2NRO7",
        "colab": {
          "base_uri": "https://localhost:8080/"
        },
        "outputId": "08470a3b-759d-408b-a3ac-2d52df7325f1"
      },
      "execution_count": 89,
      "outputs": [
        {
          "output_type": "stream",
          "name": "stdout",
          "text": [
            "Model: \"sequential_14\"\n",
            "_________________________________________________________________\n",
            " Layer (type)                Output Shape              Param #   \n",
            "=================================================================\n",
            " flatten_14 (Flatten)        (None, 784)               0         \n",
            "                                                                 \n",
            " dense_35 (Dense)            (None, 300)               235500    \n",
            "                                                                 \n",
            " dense_36 (Dense)            (None, 100)               30100     \n",
            "                                                                 \n",
            " dense_37 (Dense)            (None, 10)                1010      \n",
            "                                                                 \n",
            "=================================================================\n",
            "Total params: 266610 (1.02 MB)\n",
            "Trainable params: 266610 (1.02 MB)\n",
            "Non-trainable params: 0 (0.00 Byte)\n",
            "_________________________________________________________________\n"
          ]
        }
      ]
    },
    {
      "cell_type": "markdown",
      "source": [
        "##$\\bbox[Green,6px,padding:15px; border:5px solid lightGreen;border-radius:10px;]{\\color{white}{\\Large{\\textbf{Compiling & Fitting}}}}$\n"
      ],
      "metadata": {
        "id": "LU0qHEzPNbaF"
      }
    },
    {
      "cell_type": "markdown",
      "source": [
        "\n",
        "\n",
        "###$\\bbox[Green,2px,padding:0px; border:3px solid lightGreen;border-radius:00px;]{\\color{white}{\\Large{\\text{8.1}\\ \\ \\textbf{Compiling}}}}$\n"
      ],
      "metadata": {
        "id": "jzHm4PyTPdI2"
      }
    },
    {
      "cell_type": "code",
      "source": [
        "model.compile(loss=\"sparse_categorical_crossentropy\", optimizer=\"sgd\", metrics=[\"accuracy\"])"
      ],
      "metadata": {
        "id": "irFuVwJZNb_I"
      },
      "execution_count": 90,
      "outputs": []
    },
    {
      "cell_type": "markdown",
      "source": [
        "\n",
        "\n",
        "###$\\bbox[Green,2px,padding:0px; border:3px solid lightGreen;border-radius:00px;]{\\color{white}{\\Large{\\text{8.2}\\ \\ \\textbf{Fitting}}}}$\n"
      ],
      "metadata": {
        "id": "o5AIW_UvPanL"
      }
    },
    {
      "cell_type": "code",
      "source": [
        "history = model.fit(X_train, y_train, epochs=30, batch_size=32, validation_data=(X_val, y_val))"
      ],
      "metadata": {
        "id": "9HJBomyxQpsf",
        "colab": {
          "base_uri": "https://localhost:8080/"
        },
        "outputId": "f7366206-6292-4b3b-c235-e3194ce5250f"
      },
      "execution_count": 91,
      "outputs": [
        {
          "output_type": "stream",
          "name": "stdout",
          "text": [
            "Epoch 1/30\n",
            "938/938 [==============================] - 7s 6ms/step - loss: 0.7940 - accuracy: 0.8036 - val_loss: 0.3946 - val_accuracy: 0.8866\n",
            "Epoch 2/30\n",
            "938/938 [==============================] - 5s 5ms/step - loss: 0.3401 - accuracy: 0.9055 - val_loss: 0.3115 - val_accuracy: 0.9100\n",
            "Epoch 3/30\n",
            "938/938 [==============================] - 6s 6ms/step - loss: 0.2827 - accuracy: 0.9197 - val_loss: 0.2725 - val_accuracy: 0.9177\n",
            "Epoch 4/30\n",
            "938/938 [==============================] - 4s 4ms/step - loss: 0.2489 - accuracy: 0.9299 - val_loss: 0.2474 - val_accuracy: 0.9263\n",
            "Epoch 5/30\n",
            "938/938 [==============================] - 4s 4ms/step - loss: 0.2239 - accuracy: 0.9365 - val_loss: 0.2253 - val_accuracy: 0.9337\n",
            "Epoch 6/30\n",
            "938/938 [==============================] - 5s 6ms/step - loss: 0.2040 - accuracy: 0.9423 - val_loss: 0.2143 - val_accuracy: 0.9350\n",
            "Epoch 7/30\n",
            "938/938 [==============================] - 4s 4ms/step - loss: 0.1872 - accuracy: 0.9465 - val_loss: 0.2051 - val_accuracy: 0.9397\n",
            "Epoch 8/30\n",
            "938/938 [==============================] - 4s 4ms/step - loss: 0.1728 - accuracy: 0.9513 - val_loss: 0.1842 - val_accuracy: 0.9458\n",
            "Epoch 9/30\n",
            "938/938 [==============================] - 5s 6ms/step - loss: 0.1610 - accuracy: 0.9545 - val_loss: 0.1779 - val_accuracy: 0.9496\n",
            "Epoch 10/30\n",
            "938/938 [==============================] - 5s 5ms/step - loss: 0.1496 - accuracy: 0.9576 - val_loss: 0.1678 - val_accuracy: 0.9511\n",
            "Epoch 11/30\n",
            "938/938 [==============================] - 4s 4ms/step - loss: 0.1395 - accuracy: 0.9613 - val_loss: 0.1601 - val_accuracy: 0.9519\n",
            "Epoch 12/30\n",
            "938/938 [==============================] - 5s 6ms/step - loss: 0.1307 - accuracy: 0.9642 - val_loss: 0.1544 - val_accuracy: 0.9540\n",
            "Epoch 13/30\n",
            "938/938 [==============================] - 4s 4ms/step - loss: 0.1228 - accuracy: 0.9670 - val_loss: 0.1518 - val_accuracy: 0.9540\n",
            "Epoch 14/30\n",
            "938/938 [==============================] - 4s 4ms/step - loss: 0.1153 - accuracy: 0.9688 - val_loss: 0.1461 - val_accuracy: 0.9565\n",
            "Epoch 15/30\n",
            "938/938 [==============================] - 5s 6ms/step - loss: 0.1087 - accuracy: 0.9699 - val_loss: 0.1420 - val_accuracy: 0.9594\n",
            "Epoch 16/30\n",
            "938/938 [==============================] - 4s 4ms/step - loss: 0.1025 - accuracy: 0.9724 - val_loss: 0.1362 - val_accuracy: 0.9602\n",
            "Epoch 17/30\n",
            "938/938 [==============================] - 4s 4ms/step - loss: 0.0964 - accuracy: 0.9744 - val_loss: 0.1339 - val_accuracy: 0.9603\n",
            "Epoch 18/30\n",
            "938/938 [==============================] - 5s 6ms/step - loss: 0.0910 - accuracy: 0.9755 - val_loss: 0.1289 - val_accuracy: 0.9611\n",
            "Epoch 19/30\n",
            "938/938 [==============================] - 4s 4ms/step - loss: 0.0861 - accuracy: 0.9759 - val_loss: 0.1273 - val_accuracy: 0.9630\n",
            "Epoch 20/30\n",
            "938/938 [==============================] - 7s 8ms/step - loss: 0.0813 - accuracy: 0.9781 - val_loss: 0.1232 - val_accuracy: 0.9637\n",
            "Epoch 21/30\n",
            "938/938 [==============================] - 5s 5ms/step - loss: 0.0768 - accuracy: 0.9800 - val_loss: 0.1199 - val_accuracy: 0.9635\n",
            "Epoch 22/30\n",
            "938/938 [==============================] - 4s 4ms/step - loss: 0.0730 - accuracy: 0.9805 - val_loss: 0.1162 - val_accuracy: 0.9657\n",
            "Epoch 23/30\n",
            "938/938 [==============================] - 6s 6ms/step - loss: 0.0693 - accuracy: 0.9813 - val_loss: 0.1168 - val_accuracy: 0.9639\n",
            "Epoch 24/30\n",
            "938/938 [==============================] - 4s 4ms/step - loss: 0.0652 - accuracy: 0.9825 - val_loss: 0.1135 - val_accuracy: 0.9660\n",
            "Epoch 25/30\n",
            "938/938 [==============================] - 4s 4ms/step - loss: 0.0621 - accuracy: 0.9841 - val_loss: 0.1131 - val_accuracy: 0.9658\n",
            "Epoch 26/30\n",
            "938/938 [==============================] - 6s 6ms/step - loss: 0.0588 - accuracy: 0.9851 - val_loss: 0.1120 - val_accuracy: 0.9669\n",
            "Epoch 27/30\n",
            "938/938 [==============================] - 4s 4ms/step - loss: 0.0556 - accuracy: 0.9857 - val_loss: 0.1113 - val_accuracy: 0.9670\n",
            "Epoch 28/30\n",
            "938/938 [==============================] - 4s 4ms/step - loss: 0.0530 - accuracy: 0.9865 - val_loss: 0.1074 - val_accuracy: 0.9677\n",
            "Epoch 29/30\n",
            "938/938 [==============================] - 5s 6ms/step - loss: 0.0504 - accuracy: 0.9878 - val_loss: 0.1086 - val_accuracy: 0.9665\n",
            "Epoch 30/30\n",
            "938/938 [==============================] - 4s 4ms/step - loss: 0.0476 - accuracy: 0.9885 - val_loss: 0.1065 - val_accuracy: 0.9670\n"
          ]
        }
      ]
    },
    {
      "cell_type": "markdown",
      "source": [
        "##$\\bbox[Green,6px,padding:15px; border:5px solid lightGreen;border-radius:10px;]{\\color{white}{\\Large{\\textbf{Model Evaluation}}}}$"
      ],
      "metadata": {
        "id": "mY80R0WcOFG-"
      }
    },
    {
      "cell_type": "markdown",
      "source": [
        "\n",
        "###$\\bbox[Green,2px,padding:0px; border:3px solid lightGreen;border-radius:00px;]{\\color{white}{\\Large{\\text{9.1}\\ \\ \\textbf{Plotting Validation}}}}$"
      ],
      "metadata": {
        "id": "jEaAdfGwQtey"
      }
    },
    {
      "cell_type": "markdown",
      "source": [
        "$\\text{Evalute the model by plotting the loss and accuracy on training, and validations sets over time.}$"
      ],
      "metadata": {
        "id": "YNvUOlfOOadX"
      }
    },
    {
      "cell_type": "code",
      "source": [
        "pd.DataFrame(history.history).plot()\n",
        "plt.grid(True)\n",
        "plt.gca().set_ylim(0,1)\n",
        "plt.show()"
      ],
      "metadata": {
        "id": "XwkW_Xc5OFw7",
        "colab": {
          "base_uri": "https://localhost:8080/",
          "height": 435
        },
        "outputId": "0d5fb464-9878-47b9-ea14-015e92754763"
      },
      "execution_count": 92,
      "outputs": [
        {
          "output_type": "display_data",
          "data": {
            "text/plain": [
              "<Figure size 640x480 with 1 Axes>"
            ],
            "image/png": "[encoded data removed]"
          },
          "metadata": {}
        }
      ]
    },
    {
      "cell_type": "markdown",
      "source": [
        "$\\text{The accuracy of training goes higher and higher while the accuracy of validation set doesn't change that much.}$\n",
        "\n",
        "$\\color{#9B0000}{\\text{And the same with the loss except it goes lower.}}$"
      ],
      "metadata": {
        "id": "3A2odxojOwGK"
      }
    },
    {
      "cell_type": "markdown",
      "source": [
        "\n",
        "###$\\bbox[Green,2px,padding:0px; border:3px solid lightGreen;border-radius:00px;]{\\color{white}{\\Large{\\text{9.2}\\ \\ \\textbf{Test Set Evaluation}}}}$"
      ],
      "metadata": {
        "id": "O91bGjbERAFO"
      }
    },
    {
      "cell_type": "markdown",
      "source": [
        "First, load the data as done in [$\\bbox[#000051,2px,padding:0px; border:3px solid lightBlue;border-radius:10px;]{\\color{white}{{\\text{Part 1}}}}$](#scrollTo=UzzA-4rVNVYy&line=1&uniqifier=1).\n",
        "\n",
        "Then, we want to store it in `X_test` and `y_test` as done in [$\\bbox[#000051,2px,padding:0px; border:3px solid lightBlue;border-radius:10px;]{\\color{white}{{\\text{Part 1}}}}$](#scrollTo=y7p7gXEcNVY4&line=9&uniqifier=1)"
      ],
      "metadata": {
        "id": "Z41S7Q94pAmb"
      }
    },
    {
      "cell_type": "code",
      "source": [
        "# Read the data and put in a NumPy array\n",
        "test_data = np.array(pd.read_csv('test.csv'))"
      ],
      "metadata": {
        "id": "H4zz5wvHp81q"
      },
      "execution_count": 93,
      "outputs": []
    },
    {
      "cell_type": "markdown",
      "source": [
        "The first column of [`test_data`](#scrollTo=X5HiXMpKqbSK&line=2&uniqifier=1) is the label, store it in [`y_test`](#scrollTo=X5HiXMpKqbSK&line=4&uniqifier=1) and the rest of the columns in [`X_test`](#scrollTo=X5HiXMpKqbSK&line=3&uniqifier=1)"
      ],
      "metadata": {
        "id": "tLECzkbIzp8A"
      }
    },
    {
      "cell_type": "code",
      "source": [
        "# split the test data to y and X.\n",
        "test_data = test_data.T\n",
        "y_test = test_data[0]\n",
        "X_test = test_data[1:785]"
      ],
      "metadata": {
        "id": "X5HiXMpKqbSK"
      },
      "execution_count": 94,
      "outputs": []
    },
    {
      "cell_type": "code",
      "source": [
        "# Reshape X so it compatible with the trained model\n",
        "X_test = X_test.T.reshape(X_test.T.shape[0],28,28)\n",
        "X_test.shape"
      ],
      "metadata": {
        "id": "V43a-PMZaRdQ",
        "colab": {
          "base_uri": "https://localhost:8080/"
        },
        "outputId": "e9cdf9c6-f651-4987-ff3c-8ea1b09b4215"
      },
      "execution_count": 95,
      "outputs": [
        {
          "output_type": "execute_result",
          "data": {
            "text/plain": [
              "(1500, 28, 28)"
            ]
          },
          "metadata": {},
          "execution_count": 95
        }
      ]
    },
    {
      "cell_type": "markdown",
      "source": [
        "\n",
        "$\\text{Now, check the model on the test set}$\n",
        "give it the data (`X_test`) and the labels (`y_test`)"
      ],
      "metadata": {
        "id": "zAY_NsyPPeei"
      }
    },
    {
      "cell_type": "code",
      "source": [
        "# Evaluate the test set with the trained model\n",
        "model.evaluate(X_test, y_test)"
      ],
      "metadata": {
        "id": "Pmjs0Vf3Pdri",
        "colab": {
          "base_uri": "https://localhost:8080/"
        },
        "outputId": "9d63684b-1e63-40ea-c84d-86fa20c65aab"
      },
      "execution_count": 96,
      "outputs": [
        {
          "output_type": "stream",
          "name": "stdout",
          "text": [
            "47/47 [==============================] - 0s 2ms/step - loss: 23.5214 - accuracy: 0.9613\n"
          ]
        },
        {
          "output_type": "execute_result",
          "data": {
            "text/plain": [
              "[23.5213565826416, 0.9613333344459534]"
            ]
          },
          "metadata": {},
          "execution_count": 96
        }
      ]
    },
    {
      "cell_type": "markdown",
      "source": [
        "\n",
        "###$\\bbox[Green,2px,padding:0px; border:3px solid lightGreen;border-radius:00px;]{\\color{white}{\\Large{\\text{9.3}\\ \\ \\textbf{Confusion Matrix}}}}$"
      ],
      "metadata": {
        "id": "1NU_U0z_P667"
      }
    },
    {
      "cell_type": "markdown",
      "source": [
        "[$\\hat{y}$](#scrollTo=dsqLGkf8QY6o&line=2&uniqifier=1)$- \\text{ The prediction over}\\ \\ $`X_test`.\n",
        "\n",
        "\n"
      ],
      "metadata": {
        "id": "_vWmNCcxRU55"
      }
    },
    {
      "cell_type": "code",
      "source": [
        "# prepare the confusion matrix\n",
        "y_hat = model.predict(X_test)\n",
        "y_classes = y_hat.argmax(axis=-1)\n",
        "confusion_matrix = tf.math.confusion_matrix(y_test, y_classes)\n",
        "\n",
        "# plotting the confusion matrix\n",
        "fig = sns.heatmap(confusion_matrix, annot=True, fmt='g', cmap='Greens')  #annot=True to annotate cells, ftm='g' to disable scientific notation\n",
        "\n",
        "# labels, title and ticks\n",
        "fig.set_xlabel('Predicted labels')\n",
        "fig.set_ylabel('True labels')\n",
        "fig.set_title('Confusion Matrix')\n",
        "fig.xaxis.set_ticklabels(class_name)\n",
        "fig.yaxis.set_ticklabels(class_name)\n",
        "fig.figure.set_size_inches(10, 10)\n",
        "\n",
        "plt.show()"
      ],
      "metadata": {
        "id": "dsqLGkf8QY6o",
        "colab": {
          "base_uri": "https://localhost:8080/",
          "height": 889
        },
        "outputId": "2498809d-5020-433d-9e61-49a29d25a36c"
      },
      "execution_count": 97,
      "outputs": [
        {
          "output_type": "stream",
          "name": "stdout",
          "text": [
            "47/47 [==============================] - 0s 2ms/step\n"
          ]
        },
        {
          "output_type": "display_data",
          "data": {
            "text/plain": [
              "<Figure size 1000x1000 with 2 Axes>"
            ],
            "image/png": "[encoded data removed]"
          },
          "metadata": {}
        }
      ]
    },
    {
      "cell_type": "markdown",
      "source": [
        "##$\\bbox[Green,6px,padding:15px; border:5px solid lightGreen;border-radius:10px;]{\\color{white}{\\Large{\\textbf{Improve the model}}}}$"
      ],
      "metadata": {
        "id": "iOzQo6I8aGza"
      }
    },
    {
      "cell_type": "code",
      "source": [
        "import tensorflow as tf\n",
        "from tensorflow.keras.datasets import mnist\n",
        "from tensorflow.keras.models import Sequential\n",
        "from tensorflow.keras.layers import Conv2D, MaxPooling2D, Flatten, Dense\n",
        "\n",
        "# Load the MNIST dataset\n",
        "(X_train, y_train), (X_test, y_test) = mnist.load_data()\n",
        "\n",
        "# splitting data\n",
        "X_val = X_train[0:10000]\n",
        "y_val = y_train[0:10000]\n",
        "\n",
        "X_train = X_train[10000:]\n",
        "y_train = y_train[10000:]\n",
        "\n",
        "# Normalize pixel values to range [0, 1]\n",
        "X_train, X_test, X_val = X_train / 255.0, X_test / 255.0, X_val / 255.0\n",
        "\n",
        "# Reshape input data to 4D tensor (batch_size, height, width, channels)\n",
        "X_train = X_train.reshape(X_train.shape[0], 28, 28, 1)\n",
        "X_val = X_val.reshape(X_val.shape[0], 28, 28, 1)\n",
        "X_test = X_test.reshape(X_test.shape[0], 28, 28, 1)\n",
        "\n",
        "# Define the model architecture\n",
        "model_1 = Sequential([\n",
        "    Conv2D(32, (3, 3), activation='relu', input_shape=(28, 28, 1)),\n",
        "    MaxPooling2D((2, 2)),\n",
        "    Conv2D(64, (3, 3), activation='relu'),\n",
        "    MaxPooling2D((2, 2)),\n",
        "    Flatten(),\n",
        "    Dense(128, activation='relu'),\n",
        "    Dense(10, activation='softmax')\n",
        "])\n",
        "\n",
        "# Compile the model\n",
        "model_1.compile(optimizer='adam', loss='sparse_categorical_crossentropy', metrics=['accuracy'])\n",
        "\n",
        "# Train the model\n",
        "history_1 = model_1.fit(X_train, y_train, epochs=10, batch_size= 128, validation_data=(X_val, y_val))"
      ],
      "metadata": {
        "colab": {
          "base_uri": "https://localhost:8080/"
        },
        "outputId": "4fbac194-d8d3-4950-8d0f-af94a00ddd10",
        "id": "me26YjbrcpdN"
      },
      "execution_count": 98,
      "outputs": [
        {
          "output_type": "stream",
          "name": "stdout",
          "text": [
            "Epoch 1/10\n",
            "391/391 [==============================] - 40s 99ms/step - loss: 0.2302 - accuracy: 0.9336 - val_loss: 0.0696 - val_accuracy: 0.9789\n",
            "Epoch 2/10\n",
            "391/391 [==============================] - 39s 101ms/step - loss: 0.0576 - accuracy: 0.9820 - val_loss: 0.0705 - val_accuracy: 0.9784\n",
            "Epoch 3/10\n",
            "391/391 [==============================] - 39s 99ms/step - loss: 0.0400 - accuracy: 0.9873 - val_loss: 0.0486 - val_accuracy: 0.9868\n",
            "Epoch 4/10\n",
            "391/391 [==============================] - 40s 103ms/step - loss: 0.0305 - accuracy: 0.9903 - val_loss: 0.0490 - val_accuracy: 0.9861\n",
            "Epoch 5/10\n",
            "391/391 [==============================] - 40s 103ms/step - loss: 0.0236 - accuracy: 0.9927 - val_loss: 0.0506 - val_accuracy: 0.9857\n",
            "Epoch 6/10\n",
            "391/391 [==============================] - 38s 96ms/step - loss: 0.0194 - accuracy: 0.9938 - val_loss: 0.0402 - val_accuracy: 0.9887\n",
            "Epoch 7/10\n",
            "391/391 [==============================] - 38s 97ms/step - loss: 0.0151 - accuracy: 0.9952 - val_loss: 0.0470 - val_accuracy: 0.9883\n",
            "Epoch 8/10\n",
            "391/391 [==============================] - 39s 101ms/step - loss: 0.0111 - accuracy: 0.9965 - val_loss: 0.0383 - val_accuracy: 0.9897\n",
            "Epoch 9/10\n",
            "391/391 [==============================] - 39s 101ms/step - loss: 0.0092 - accuracy: 0.9972 - val_loss: 0.0479 - val_accuracy: 0.9885\n",
            "Epoch 10/10\n",
            "391/391 [==============================] - 39s 100ms/step - loss: 0.0102 - accuracy: 0.9968 - val_loss: 0.0462 - val_accuracy: 0.9887\n"
          ]
        }
      ]
    },
    {
      "cell_type": "code",
      "source": [
        "pd.DataFrame(history_1.history).plot()\n",
        "plt.grid(True)\n",
        "plt.gca().set_ylim(0,1)\n",
        "plt.show()"
      ],
      "metadata": {
        "colab": {
          "base_uri": "https://localhost:8080/",
          "height": 435
        },
        "id": "L3bDdH5QXFCz",
        "outputId": "6d4fc8b9-68c7-4e7b-86a9-501e1a46e02c"
      },
      "execution_count": 99,
      "outputs": [
        {
          "output_type": "display_data",
          "data": {
            "text/plain": [
              "<Figure size 640x480 with 1 Axes>"
            ],
            "image/png": "[encoded data removed]"
          },
          "metadata": {}
        }
      ]
    },
    {
      "cell_type": "code",
      "source": [
        "# Evaluate the test set with the trained model\n",
        "model_1.evaluate(X_test, y_test)"
      ],
      "metadata": {
        "colab": {
          "base_uri": "https://localhost:8080/"
        },
        "id": "SUizaqN-S7nn",
        "outputId": "478a49bb-229a-4981-f314-d3cb389407fa"
      },
      "execution_count": 100,
      "outputs": [
        {
          "output_type": "stream",
          "name": "stdout",
          "text": [
            "313/313 [==============================] - 4s 12ms/step - loss: 0.0293 - accuracy: 0.9915\n"
          ]
        },
        {
          "output_type": "execute_result",
          "data": {
            "text/plain": [
              "[0.029343539848923683, 0.9915000200271606]"
            ]
          },
          "metadata": {},
          "execution_count": 100
        }
      ]
    },
    {
      "cell_type": "code",
      "source": [
        "# prepare the confusion matrix\n",
        "y_hat = model_1.predict(X_test)\n",
        "y_classes = y_hat.argmax(axis=-1)\n",
        "confusion_matrix = tf.math.confusion_matrix(y_test, y_classes)\n",
        "\n",
        "# plotting the confusion matrix\n",
        "fig = sns.heatmap(confusion_matrix, annot=True, fmt='g', cmap='Greens')  #annot=True to annotate cells, ftm='g' to disable scientific notation\n",
        "\n",
        "# labels, title and ticks\n",
        "fig.set_xlabel('Predicted labels')\n",
        "fig.set_ylabel('True labels')\n",
        "fig.set_title('Confusion Matrix')\n",
        "fig.xaxis.set_ticklabels(class_name)\n",
        "fig.yaxis.set_ticklabels(class_name)\n",
        "fig.figure.set_size_inches(10, 10)\n",
        "\n",
        "plt.show()"
      ],
      "metadata": {
        "colab": {
          "base_uri": "https://localhost:8080/",
          "height": 889
        },
        "id": "5uSbAbTpdRME",
        "outputId": "8e860a91-8c88-4f43-e82b-cef535d6911c"
      },
      "execution_count": 101,
      "outputs": [
        {
          "output_type": "stream",
          "name": "stdout",
          "text": [
            "313/313 [==============================] - 5s 15ms/step\n"
          ]
        },
        {
          "output_type": "display_data",
          "data": {
            "text/plain": [
              "<Figure size 1000x1000 with 2 Axes>"
            ],
            "image/png": "[encoded data removed]"
          },
          "metadata": {}
        }
      ]
    }
  ]
}